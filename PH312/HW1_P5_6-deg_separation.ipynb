{
 "cells": [
  {
   "cell_type": "markdown",
   "metadata": {},
   "source": [
    "<H1>1.7. Six degrees of separation.</H1>\n",
    "\n",
    "(Sethna, \"Entropy, Order Parameters, and Complexity\", ex. 1.7, developed with Piet Brouwer)\n",
    "\n",
    "Â© 2016, James Sethna, all rights reserved.\n"
   ]
  },
  {
   "cell_type": "markdown",
   "metadata": {},
   "source": [
    "<br/>\n",
    "2024.10.1. Jungeun Kim\n",
    "\n",
    "Main reference: https://cac.cornell.edu/myers/teaching/ComputationalMethods/ComputerExercises/SmallWorld/SmallWorld.html"
   ]
  },
  {
   "cell_type": "code",
   "execution_count": 6,
   "metadata": {},
   "outputs": [],
   "source": [
    "%matplotlib inline\n",
    "import matplotlib.pyplot as plt\n",
    "import numpy as np\n",
    "import networkx as nx\n",
    "import random\n",
    "import math\n",
    "# import NetGraphics  # a separate module supporting network visualization\n",
    "import imp\n",
    "# from collections import"
   ]
  },
  {
   "cell_type": "markdown",
   "metadata": {},
   "source": [
    "## (a)\n",
    "Define a network object on the computer. For this exercise, the nodes will be represented by integers. Implement a network class, with five functions:\n",
    "* `HasNode(node)`, which checks to see if a node is already in the network;\n",
    "* `AddNode(node)`, which adds a new node to the system (if it is not already there);\n",
    "* `AddEdge(node1, node2)`, which adds a new edge to the system;\n",
    "* `GetNodes()`, which returns a list of existing nodes; and\n",
    "* `GetNeighbors(node)`, which returns the neighbors of an existing node."
   ]
  },
  {
   "cell_type": "code",
   "execution_count": 9,
   "metadata": {},
   "outputs": [],
   "source": [
    "class Network :\n",
    "    \"\"\"An UndirectedGraph g contains a dictionary (g.connections) that\n",
    "    maps a node identifier (key) to a list of nodes connected to (values).\n",
    "    g.connections[node] returns a list [node2, node3, node4] of neighbors.\n",
    "    Node identifiers can be any non-mutable Python type (e.g., integers,\n",
    "    tuples, strings, but not lists).\n",
    "    \"\"\"\n",
    "\n",
    "    def __init__(self) :\n",
    "        \"\"\"UndirectedGraph() creates an empty graph g.\n",
    "\t    g.connections starts as an empty dictionary.  When nodes are\n",
    "\t    added, the corresponding values need to be inserted into lists.\n",
    "\n",
    "        A method/function definition in a class must begin with an instance\n",
    "        of the class in question; by convention, the name \"self\" is used for\n",
    "        this instance.\"\"\"\n",
    "        self.connections = {}\n",
    "\n",
    "\n",
    "    def HasNode(self, node) :\n",
    "        \"\"\"Returns True if the graph contains the specified node, and\n",
    "        False otherwise.  Check directly to see if the dictionary of\n",
    "        connections contains the node, rather than (inefficiently)\n",
    "        generating a list of all nodes and then searching for the\n",
    "        specified node.\"\"\"\n",
    "        return node in self.connections\n",
    "\n",
    "\n",
    "    def AddNode(self, node) :\n",
    "\t    # Uses HasNode(node) to determine if node has already been added.\n",
    "        if HasNode(node) == False :\n",
    "            self.connections[node] = []\n",
    "\n",
    "\n",
    "    def AddEdge(self, node1, node2) :\n",
    "        \"\"\"\n",
    "        Add node1 and node2 to network first\n",
    "        Adds new edge \n",
    "        (appends node2 to connections[node1] and vice-versa, since it's\n",
    "        an undirected graph)\n",
    "        Do so only if old edge does not already exist \n",
    "        (node2 not in connections[node1])\n",
    "        \"\"\"\n",
    "        self.AddNode(node1)\n",
    "        self.AddNode(node2)\n",
    "        if node2 in self.connections[node1] == False :\n",
    "            self.connections[node1].append(node2)\n",
    "        if node1 in self.connections[node2] == False :\n",
    "            self.connections[node2].append(node1)\n",
    "\n",
    "\n",
    "    def GetNodes(self):\n",
    "        \"\"\"g.GetNodes() returns all nodes (keys) in connections\"\"\"\n",
    "        return list(self.connections.keys())\n",
    "\n",
    "\n",
    "    def GetNeighbors(self, node):\n",
    "        \"\"\"g.GetNeighbors(node) returns a copy of the list of neighbors of\n",
    "        the specified node.  A copy is returned (using the [:] operator) so\n",
    "\t    that the user does not inadvertently change the neighbor list.\"\"\"\n",
    "        return self.connections[node]\n",
    "\n"
   ]
  },
  {
   "cell_type": "code",
   "execution_count": 28,
   "metadata": {},
   "outputs": [],
   "source": [
    "def create_small_world_network(L, Z, p) :\n",
    "    graph = nx.Graph()\n",
    "    \n",
    "    # Add nodes and connection less than Z//2.\n",
    "    for i in range(L) :\n",
    "        graph.add_node(i)\n",
    "        for j in range(1, Z//2 + 1) :\n",
    "            graph.add_edge(i, (i + j) % L)\n",
    "            graph.add_edge(i, (i - j) % L)\n",
    "    \n",
    "    # Add shortcut within p.\n",
    "    num_shortcuts = int(p * L * Z / 2)\n",
    "    for i in range(num_shortcuts) :\n",
    "        node_1 = random.randint(0, L - 1)\n",
    "        node_2 = random.randint(0, L - 1)\n",
    "        if node_1 != node_2 :\n",
    "            graph.add_edge(node_1, node_2)\n",
    "    \n",
    "    return graph"
   ]
  },
  {
   "cell_type": "code",
   "execution_count": 27,
   "metadata": {},
   "outputs": [
    {
     "name": "stdout",
     "output_type": "stream",
     "text": [
      "['A', 'B', 'D']\n"
     ]
    },
    {
     "data": {
      "image/png": "[encoded data removed]",
      "text/plain": [
       "<Figure size 432x288 with 1 Axes>"
      ]
     },
     "metadata": {},
     "output_type": "display_data"
    }
   ],
   "source": [
    "# Test#\n",
    "G = nx.Graph()\n",
    "G.add_edge(\"A\", \"B\", weight=4)\n",
    "G.add_edge(\"B\", \"D\", weight=2)\n",
    "G.add_edge(\"A\", \"C\", weight=3)\n",
    "G.add_edge(\"C\", \"D\", weight=4)\n",
    "print(nx.shortest_path(G, \"A\", \"D\", weight=\"weight\"))\n",
    "nx.draw_shell(G, with_labels = True)"
   ]
  },
  {
   "cell_type": "code",
   "execution_count": 29,
   "metadata": {},
   "outputs": [],
   "source": [
    "L = 100\n",
    "Z = 2\n",
    "p = 0.1\n",
    "graph = create_small_world_network(L, Z, p)"
   ]
  },
  {
   "cell_type": "markdown",
   "metadata": {},
   "source": [
    "<br/>\n",
    "<br/>\n",
    "\n",
    "## (b)\n",
    "* `FindPathLengthsFromNode(graph, node)`\n",
    "* `FindAllPathLengths(graph)`<br/>\n",
    "It generates a list of all lengths (one per pair of nodes in the graph) by repeatedly using FindPathLengthsFromNode. Check your function by testing that the histogram of path lengths at p = 0 is constant for 0 < l < L/Z, as advertised. Generate graphs at L = 1,000 and Z =2 for p=0.02 and p=0.2; display the circle graphs and plot the histogram of path lengths. Zoom in on the histogram; how much does it change with p? What value of p would you need to get “six degrees of separation”?\n",
    "* `FindAveragePathLength(graph)`<br/>\n",
    "It computes the mean ⟨l⟩ over all pairs of nodes. Compute $l$ for $Z = 2$, $L = 100$, and $p = 0.1$ a few times; your answer should be around $l = 10$. Notice that there are substantial statistical fluctuations in the value from sample to sample. Roughly how many long bonds are there in this system? Would you expect fluctuations in the distances?"
   ]
  },
  {
   "cell_type": "code",
   "execution_count": 16,
   "metadata": {},
   "outputs": [],
   "source": [
    "def FindPathLengthsFromNode(graph, node) :\n",
    "    return shortest_path_length(graph, source=node)         # https://networkx.org/documentation/stable/reference/algorithms/generated/networkx.algorithms.shortest_paths.generic.shortest_path_length.html"
   ]
  },
  {
   "cell_type": "code",
   "execution_count": 18,
   "metadata": {},
   "outputs": [],
   "source": [
    "def FindAllPathLengths(graph) :\n",
    "    all_path_len = []\n",
    "    for node in graph :\n",
    "        all_path_len.append(FindPathLengthsFromNode(graph, node))\n",
    "    return np.array(all_path_len)"
   ]
  },
  {
   "cell_type": "code",
   "execution_count": 19,
   "metadata": {},
   "outputs": [],
   "source": [
    "def FindAveragePathLength(graph) :\n",
    "    return np.average(FindAllPathLengths(graph))        # https://numpy.org/doc/2.0/reference/generated/numpy.average.html"
   ]
  },
  {
   "cell_type": "markdown",
   "metadata": {},
   "source": [
    "## (c) Histogram\n"
   ]
  },
  {
   "cell_type": "code",
   "execution_count": null,
   "metadata": {},
   "outputs": [],
   "source": [
    "def histogram(graph) :\n",
    "    plt.figure(figsize=(8,6))\n",
    "    ensemble = GOE_Ensemble(M, N)                                                   # Generate Gaussian orthogonal ensemble (GOE), N by N matrix with M particles.\n",
    "    diffs = CenterEigenvalueDifferences(ensemble)                                   # Compute the eigenvalue difference of the matrix.\n",
    "\n",
    "    plt.hist(diffs/mean(diffs), bins=50, density=True, label='Histogram')           # 2024.10.1. Jungeun Kim -- modify from `normed=True` to `density=True`, python 3.9.\n",
    "    s = np.arange(0., 3., 0.01)                                                     # s = lambda/<lambda>\n",
    "    rhoWigner = 0.5 * np.pi * s * np.exp(- 0.25 * np.pi * (s**2))                   # Wigner's distribution equation\n",
    "    plt.plot(s, rhoWigner, 'r', label='Wigner eq.')\n",
    "    plt.title('{}x{} matrix eigenvalue differences (M = {})'.format(N, N, M))\n",
    "    plt.legend()\n",
    "    plt.xlabel(r'$s = \\lambda/<\\lambda>$')\n",
    "    plt.ylabel(\"Counts\")\n",
    "    plt.plot()"
   ]
  }
 ],
 "metadata": {
  "kernelspec": {
   "display_name": "base",
   "language": "python",
   "name": "python3"
  },
  "language_info": {
   "codemirror_mode": {
    "name": "ipython",
    "version": 3
   },
   "file_extension": ".py",
   "mimetype": "text/x-python",
   "name": "python",
   "nbconvert_exporter": "python",
   "pygments_lexer": "ipython3",
   "version": "3.9.12"
  }
 },
 "nbformat": 4,
 "nbformat_minor": 2
}
